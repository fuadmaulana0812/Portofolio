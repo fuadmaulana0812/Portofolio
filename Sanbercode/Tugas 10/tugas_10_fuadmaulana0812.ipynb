{
  "cells": [
    {
      "cell_type": "code",
      "execution_count": 2,
      "metadata": {
        "id": "EB5BtvV3mzRv"
      },
      "outputs": [],
      "source": [
        "#import semua library yang kalian butuhkan disini\n",
        "import json, tweepy"
      ]
    },
    {
      "cell_type": "code",
      "execution_count": 3,
      "metadata": {
        "colab": {
          "base_uri": "https://localhost:8080/"
        },
        "id": "nXj1rD5SVKgY",
        "outputId": "7397006b-0026-477b-e191-794a0d757086"
      },
      "outputs": [
        {
          "output_type": "execute_result",
          "data": {
            "text/plain": [
              "dict_keys(['bearer_token', 'api_key', 'api_key_secret', 'access_token', 'access_token_secret'])"
            ]
          },
          "metadata": {},
          "execution_count": 3
        }
      ],
      "source": [
        "#sel ini digunakan untuk membaca tokens kalian. simpan berkas token.json pada folder yang sama dengan file tugas ini\n",
        "\n",
        "with open(\"token.json\") as f:\n",
        "  tokens = json.load(f)\n",
        "\n",
        "bearer_token = tokens['bearer_token']\n",
        "api_key = tokens['api_key']\n",
        "api_key_secret = tokens['api_key_secret']\n",
        "access_token = tokens['access_token']\n",
        "access_token_secret = tokens['access_token_secret']\n",
        "\n",
        "tokens.keys()"
      ]
    },
    {
      "cell_type": "code",
      "execution_count": 26,
      "metadata": {
        "id": "MoyA2If8zF18"
      },
      "outputs": [],
      "source": [
        "#buat variabel authentikasi dan api\n",
        "auth = tweepy.OAuthHandler(api_key, api_key_secret)\n",
        "auth.set_access_token(access_token, access_token_secret)\n",
        "api = tweepy.API(auth, wait_on_rate_limit=True)"
      ]
    },
    {
      "cell_type": "code",
      "execution_count": 29,
      "metadata": {
        "id": "-kIrEKMPxkA6"
      },
      "outputs": [],
      "source": [
        "#Buatlah sebuah fungsi dengan nama user_timeline_scraper()\n",
        "#fungsi tersebut memiliki input username dari user\n",
        "#Fungsi ini berguna untuk mengambil 10 tweet yang berada di timeline user.\n",
        "#gunakan metode Cursor untuk tugas ini\n",
        "#gunakan tweet_mode --> extended\n",
        "\n",
        "def user_timeline_scraper(username):\n",
        "  response = tweepy.Cursor(api.search_tweets,\n",
        "                           q = username,\n",
        "                           lang = \"id\",\n",
        "                           tweet_mode = \"extended\",\n",
        "                           ).items(10)\n",
        "  for tweet in response:\n",
        "    print(tweet.full_text)\n",
        "    print(\"----------------------------------------------------------\")"
      ]
    },
    {
      "cell_type": "code",
      "source": [
        "username = \"MataNajwa\"\n",
        "user_timeline_scraper(username)"
      ],
      "metadata": {
        "colab": {
          "base_uri": "https://localhost:8080/"
        },
        "id": "G_ydD9pwzvNW",
        "outputId": "77aef857-8be1-4fdf-8d0a-9748a1b70401"
      },
      "execution_count": 30,
      "outputs": [
        {
          "output_type": "stream",
          "name": "stdout",
          "text": [
            "Ku kira matanajwa matanajwa yg rame semalem tu mba najwa shihab, ternyata bukan\n",
            "----------------------------------------------------------\n",
            "@hajimunawaa @MariaTrihartati @aryani_wahyu22 @AXA_Mandiri @ojkindonesia @OmbudsmanRI137 @KemensetnegRI @setkabgoid @jokowi @Don_dasco @ListyoSigitP @prabowo @sandiuno @puanmaharani_ri @bank_indonesia @bankmandiri @CIMBNiaga @BankBCA @mohmahfudmd @sman1018 @antonsyafri6896 @DasriSyafrial @SopoJar6wo @Okkkaaa3 @andrewenas @FPKSDPRRI @FraksiPKB @erickthohir @KomisiYudisial @geloraco @MataNajwa @Metro_TV @DPR_RI @detikcom Saya korban penipuan @AXA_Mandiri saya dijanjikan tabungan berjangka sudah 10 thn digiring ke Laps duit mau dipotong lagi 50% dasar manusia rakus\n",
            "----------------------------------------------------------\n",
            "@MataNajwa Aku td terpaksa beli ktya stok lm 40k/2ltr 😇😇😇\n",
            "----------------------------------------------------------\n",
            "RT @hajimunawaa: @MariaTrihartati @pakdee_ronnie @aryani_wahyu22 @AXA_Mandiri @ojkindonesia @OmbudsmanRI137 @KemensetnegRI @setkabgoid @jok…\n",
            "----------------------------------------------------------\n",
            "RT @MataNajwa: Update harga minyak goreng 22 Februari 2022 https://t.co/msxBXuq0p5\n",
            "----------------------------------------------------------\n",
            "@sman1018 @AXA_Mandiri @jokowi @FPKSDPRRI @KompasTV @AimanWitjaksono @MataNajwa @BungTB Memang benar @AXA_Mandiri menjanjikan saya program tabungan berjangka rupanya saya ditipu dasar keji, komisi saja yang ada di otak mereka\n",
            "----------------------------------------------------------\n",
            "RT @sman1018: @pakdee_ronnie @AXA_Mandiri trus berjuang !! biarpun bot yg jwb..itu artix @AXA_Mandiri TDK ada itikad baik utk menyelesaikan…\n",
            "----------------------------------------------------------\n",
            "@AXA_Mandiri Tolong kami atas orang orang yang serakah yang ingin merampas hak hak kami @DPR_RI @mprgoid @geloraco @KompasTV @MataNajwa @Metro_TV @tvOneNews @MariaTrihartati @AXAIndonesia @AxAthailand @AXASegurosEs @AXAFrance @AXAMexico @AXANext @AXAHealth @AXAResearchFund\n",
            "----------------------------------------------------------\n",
            "@pakdee_ronnie @AXA_Mandiri trus berjuang !! biarpun bot yg jwb..itu artix @AXA_Mandiri TDK ada itikad baik utk menyelesaikan polemik ini...agar TDK ada lg yg terjebak oleh FA @AXA_Mandiri dgn kedok tabungan berjangka/pendidikan..YTH Bp @jokowi  @FPKSDPRRI @KompasTV @AimanWitjaksono @MataNajwa @BungTB\n",
            "----------------------------------------------------------\n",
            "@MataNajwa Tempat gue minyak 2 liter itu 30.000\n",
            "----------------------------------------------------------\n"
          ]
        }
      ]
    }
  ],
  "metadata": {
    "colab": {
      "collapsed_sections": [],
      "name": "tugas_10_fuadmaulana0812.ipynb",
      "provenance": []
    },
    "kernelspec": {
      "display_name": "Python 3",
      "name": "python3"
    },
    "language_info": {
      "name": "python"
    }
  },
  "nbformat": 4,
  "nbformat_minor": 0
}